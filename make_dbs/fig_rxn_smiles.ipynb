{
 "cells": [
  {
   "cell_type": "code",
   "execution_count": null,
   "metadata": {},
   "outputs": [],
   "source": [
    "import os\n",
    "from pymongo import MongoClient\n",
    "from dotenv import load_dotenv\n"
   ]
  },
  {
   "cell_type": "code",
   "execution_count": null,
   "metadata": {},
   "outputs": [],
   "source": [
    "load_dotenv()\n",
    "mongo_uri = os.getenv(\"mongo\")\n",
    "ord_data_path = os.getenv(\"fig_rxn_smiles\")\n",
    "\n",
    "client = MongoClient(mongo_uri)\n",
    "db = client[\"complement\"]\n",
    "collection = db[\"fig_rxn_smiles\"]"
   ]
  },
  {
   "cell_type": "code",
   "execution_count": null,
   "metadata": {},
   "outputs": [],
   "source": [
    "def read_reactions_from_pbtxt(directory):\n",
    "    reactions = []\n",
    "    for root, _, files in os.walk(directory):\n",
    "        for file in files:\n",
    "            if file.endswith(\".pbtxt\"):\n",
    "                file_path = os.path.join(root, file)\n",
    "                with open(file_path, \"r\") as f:\n",
    "                    reaction = reaction_pb2.Reaction()\n",
    "                    message_helpers.load_message(f, reaction)\n",
    "                    reactions.append(reaction)\n",
    "    return reactions\n",
    "\n",
    "# Function to convert ORD Reaction to a dictionary format\n",
    "def reaction_to_dict(reaction):\n",
    "    # Convert the Protobuf reaction object to a dictionary\n",
    "    return MessageToDict(reaction)\n",
    "\n",
    "# Function to export reactions to MongoDB\n",
    "def export_to_mongodb(reactions):\n",
    "    for reaction in reactions:\n",
    "        # Convert each reaction to a dictionary with all fields\n",
    "        reaction_data = reaction_to_dict(reaction)\n",
    "        # Insert the reaction into MongoDB\n",
    "        collection.insert_one(reaction_data)\n",
    "\n",
    "# Load reactions from the ORD files\n",
    "reactions = read_reactions_from_pbtxt(ord_data_path)\n",
    "\n",
    "# Export the reactions to MongoDB\n",
    "export_to_mongodb(reactions)\n",
    "\n",
    "print(\"Export completed successfully with all fields!\")\n"
   ]
  }
 ],
 "metadata": {
  "kernelspec": {
   "display_name": "mongocreate",
   "language": "python",
   "name": "python3"
  },
  "language_info": {
   "name": "python",
   "version": "3.9.20"
  }
 },
 "nbformat": 4,
 "nbformat_minor": 2
}
